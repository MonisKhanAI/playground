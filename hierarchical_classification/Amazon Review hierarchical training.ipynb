{
 "cells": [
  {
   "cell_type": "code",
   "execution_count": 1,
   "metadata": {},
   "outputs": [
    {
     "name": "stdout",
     "output_type": "stream",
     "text": [
      "baby-products.csv        grocery-gourmet-food.csv toys-games.csv\r\n",
      "beauty.csv               health-personal-care.csv train_40k.csv\r\n",
      "cat1.csv                 pet-supplies.csv         val_10k.csv\r\n"
     ]
    }
   ],
   "source": [
    "!ls data/amazon-reviews/"
   ]
  },
  {
   "cell_type": "markdown",
   "metadata": {},
   "source": [
    "# Top level classifier"
   ]
  },
  {
   "cell_type": "code",
   "execution_count": 11,
   "metadata": {},
   "outputs": [],
   "source": [
    "from sklearn import *\n",
    "import csv\n",
    "import pandas as pd"
   ]
  },
  {
   "cell_type": "code",
   "execution_count": 9,
   "metadata": {},
   "outputs": [],
   "source": [
    "from sklearn.pipeline import Pipeline\n"
   ]
  },
  {
   "cell_type": "code",
   "execution_count": 28,
   "metadata": {},
   "outputs": [],
   "source": [
    "clf = Pipeline(\n",
    "    steps=[\n",
    "        ('tok', sklearn.feature_extraction.text.TfidfVectorizer(min_df = 3, max_df=0.8)),\n",
    "        ('clf', sklearn.svm.LinearSVC(penalty='l2', multi_class='ovr', class_weight='balanced'))\n",
    "    ]\n",
    ")"
   ]
  },
  {
   "cell_type": "code",
   "execution_count": 17,
   "metadata": {},
   "outputs": [
    {
     "data": {
      "text/html": [
       "<div>\n",
       "<style scoped>\n",
       "    .dataframe tbody tr th:only-of-type {\n",
       "        vertical-align: middle;\n",
       "    }\n",
       "\n",
       "    .dataframe tbody tr th {\n",
       "        vertical-align: top;\n",
       "    }\n",
       "\n",
       "    .dataframe thead th {\n",
       "        text-align: right;\n",
       "    }\n",
       "</style>\n",
       "<table border=\"1\" class=\"dataframe\">\n",
       "  <thead>\n",
       "    <tr style=\"text-align: right;\">\n",
       "      <th></th>\n",
       "      <th>Unnamed: 0</th>\n",
       "      <th>Cat1</th>\n",
       "      <th>text_feature</th>\n",
       "    </tr>\n",
       "  </thead>\n",
       "  <tbody>\n",
       "    <tr>\n",
       "      <th>0</th>\n",
       "      <td>0</td>\n",
       "      <td>grocery gourmet food</td>\n",
       "      <td>Golden Valley Natural Buffalo Jerky The descri...</td>\n",
       "    </tr>\n",
       "    <tr>\n",
       "      <th>1</th>\n",
       "      <td>1</td>\n",
       "      <td>toys games</td>\n",
       "      <td>Westing Game This was a great book!!!! It is w...</td>\n",
       "    </tr>\n",
       "    <tr>\n",
       "      <th>2</th>\n",
       "      <td>2</td>\n",
       "      <td>toys games</td>\n",
       "      <td>Westing Game I am a first year teacher, teachi...</td>\n",
       "    </tr>\n",
       "    <tr>\n",
       "      <th>3</th>\n",
       "      <td>3</td>\n",
       "      <td>toys games</td>\n",
       "      <td>Westing Game I got the book at my bookfair at ...</td>\n",
       "    </tr>\n",
       "    <tr>\n",
       "      <th>4</th>\n",
       "      <td>4</td>\n",
       "      <td>toys games</td>\n",
       "      <td>I SPY A is For Jigsaw Puzzle 63pc Hi! I'm Mart...</td>\n",
       "    </tr>\n",
       "  </tbody>\n",
       "</table>\n",
       "</div>"
      ],
      "text/plain": [
       "   Unnamed: 0                  Cat1  \\\n",
       "0           0  grocery gourmet food   \n",
       "1           1            toys games   \n",
       "2           2            toys games   \n",
       "3           3            toys games   \n",
       "4           4            toys games   \n",
       "\n",
       "                                        text_feature  \n",
       "0  Golden Valley Natural Buffalo Jerky The descri...  \n",
       "1  Westing Game This was a great book!!!! It is w...  \n",
       "2  Westing Game I am a first year teacher, teachi...  \n",
       "3  Westing Game I got the book at my bookfair at ...  \n",
       "4  I SPY A is For Jigsaw Puzzle 63pc Hi! I'm Mart...  "
      ]
     },
     "execution_count": 17,
     "metadata": {},
     "output_type": "execute_result"
    }
   ],
   "source": [
    "df1 = pd.read_csv('data/amazon-reviews/cat1.csv', index_col=False); df1.head()"
   ]
  },
  {
   "cell_type": "code",
   "execution_count": 21,
   "metadata": {},
   "outputs": [],
   "source": [
    "X = list(df1['text_feature'])\n",
    "Y = list(df1['Cat1'])\n",
    "X_train, X_test, Y_train, Y_test = sklearn.model_selection.train_test_split(X,Y, train_size=0.8)"
   ]
  },
  {
   "cell_type": "code",
   "execution_count": 22,
   "metadata": {},
   "outputs": [],
   "source": [
    "assert len(X_train) == len(Y_train)"
   ]
  },
  {
   "cell_type": "code",
   "execution_count": 29,
   "metadata": {},
   "outputs": [
    {
     "data": {
      "text/plain": [
       "Pipeline(steps=[('tok', TfidfVectorizer(max_df=0.8, min_df=3)),\n",
       "                ('clf', LinearSVC(class_weight='balanced'))])"
      ]
     },
     "execution_count": 29,
     "metadata": {},
     "output_type": "execute_result"
    }
   ],
   "source": [
    "clf.fit(X_train, Y_train)"
   ]
  },
  {
   "cell_type": "code",
   "execution_count": 30,
   "metadata": {},
   "outputs": [
    {
     "name": "stdout",
     "output_type": "stream",
     "text": [
      "                      precision    recall  f1-score   support\n",
      "\n",
      "       baby products       0.95      0.94      0.94      1143\n",
      "              beauty       0.94      0.92      0.93      1183\n",
      "grocery gourmet food       0.93      0.92      0.93       707\n",
      "health personal care       0.91      0.92      0.92      1935\n",
      "        pet supplies       0.96      0.96      0.96       925\n",
      "          toys games       0.96      0.97      0.97      2107\n",
      "\n",
      "            accuracy                           0.94      8000\n",
      "           macro avg       0.94      0.94      0.94      8000\n",
      "        weighted avg       0.94      0.94      0.94      8000\n",
      "\n"
     ]
    }
   ],
   "source": [
    "Y_pred = clf.predict(X_test)\n",
    "print(sklearn.metrics.classification_report(Y_pred, Y_test))"
   ]
  },
  {
   "cell_type": "markdown",
   "metadata": {},
   "source": [
    "- [ ] Look at examples where model is incorrect - might tell us about the data\n",
    "- [ ] Create loop that train models for each sub category"
   ]
  },
  {
   "cell_type": "code",
   "execution_count": null,
   "metadata": {},
   "outputs": [],
   "source": [
    "\n"
   ]
  }
 ],
 "metadata": {
  "kernelspec": {
   "display_name": "Python 3",
   "language": "python",
   "name": "python3"
  },
  "language_info": {
   "codemirror_mode": {
    "name": "ipython",
    "version": 3
   },
   "file_extension": ".py",
   "mimetype": "text/x-python",
   "name": "python",
   "nbconvert_exporter": "python",
   "pygments_lexer": "ipython3",
   "version": "3.8.5"
  }
 },
 "nbformat": 4,
 "nbformat_minor": 4
}
