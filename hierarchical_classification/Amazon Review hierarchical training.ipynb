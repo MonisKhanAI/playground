{
 "cells": [
  {
   "cell_type": "code",
   "execution_count": 1,
   "metadata": {},
   "outputs": [
    {
     "name": "stdout",
     "output_type": "stream",
     "text": [
      "baby-products.csv        grocery-gourmet-food.csv toys-games.csv\r\n",
      "beauty.csv               health-personal-care.csv train_40k.csv\r\n",
      "cat1.csv                 pet-supplies.csv         val_10k.csv\r\n"
     ]
    }
   ],
   "source": [
    "!ls data/amazon-reviews/"
   ]
  },
  {
   "cell_type": "markdown",
   "metadata": {},
   "source": [
    "# Top level classifier"
   ]
  },
  {
   "cell_type": "code",
   "execution_count": 5,
   "metadata": {},
   "outputs": [],
   "source": [
    "from sklearn import *\n",
    "import csv\n",
    "import pandas as pd\n",
    "from sklearn.pipeline import Pipeline"
   ]
  },
  {
   "cell_type": "code",
   "execution_count": 55,
   "metadata": {},
   "outputs": [],
   "source": [
    "clf1 = Pipeline(\n",
    "    steps=[\n",
    "        ('tok', feature_extraction.text.TfidfVectorizer(min_df = 3, max_df=0.8, ngram_range=[1,2])),\n",
    "        ('clf', svm.LinearSVC(penalty='l2', multi_class='ovr', class_weight='balanced'))\n",
    "    ]\n",
    ")"
   ]
  },
  {
   "cell_type": "code",
   "execution_count": 56,
   "metadata": {},
   "outputs": [
    {
     "data": {
      "text/html": [
       "<div>\n",
       "<style scoped>\n",
       "    .dataframe tbody tr th:only-of-type {\n",
       "        vertical-align: middle;\n",
       "    }\n",
       "\n",
       "    .dataframe tbody tr th {\n",
       "        vertical-align: top;\n",
       "    }\n",
       "\n",
       "    .dataframe thead th {\n",
       "        text-align: right;\n",
       "    }\n",
       "</style>\n",
       "<table border=\"1\" class=\"dataframe\">\n",
       "  <thead>\n",
       "    <tr style=\"text-align: right;\">\n",
       "      <th></th>\n",
       "      <th>Unnamed: 0</th>\n",
       "      <th>Cat1</th>\n",
       "      <th>text_feature</th>\n",
       "    </tr>\n",
       "  </thead>\n",
       "  <tbody>\n",
       "    <tr>\n",
       "      <th>0</th>\n",
       "      <td>0</td>\n",
       "      <td>grocery gourmet food</td>\n",
       "      <td>Golden Valley Natural Buffalo Jerky The descri...</td>\n",
       "    </tr>\n",
       "    <tr>\n",
       "      <th>1</th>\n",
       "      <td>1</td>\n",
       "      <td>toys games</td>\n",
       "      <td>Westing Game This was a great book!!!! It is w...</td>\n",
       "    </tr>\n",
       "    <tr>\n",
       "      <th>2</th>\n",
       "      <td>2</td>\n",
       "      <td>toys games</td>\n",
       "      <td>Westing Game I am a first year teacher, teachi...</td>\n",
       "    </tr>\n",
       "    <tr>\n",
       "      <th>3</th>\n",
       "      <td>3</td>\n",
       "      <td>toys games</td>\n",
       "      <td>Westing Game I got the book at my bookfair at ...</td>\n",
       "    </tr>\n",
       "    <tr>\n",
       "      <th>4</th>\n",
       "      <td>4</td>\n",
       "      <td>toys games</td>\n",
       "      <td>I SPY A is For Jigsaw Puzzle 63pc Hi! I'm Mart...</td>\n",
       "    </tr>\n",
       "  </tbody>\n",
       "</table>\n",
       "</div>"
      ],
      "text/plain": [
       "   Unnamed: 0                  Cat1  \\\n",
       "0           0  grocery gourmet food   \n",
       "1           1            toys games   \n",
       "2           2            toys games   \n",
       "3           3            toys games   \n",
       "4           4            toys games   \n",
       "\n",
       "                                        text_feature  \n",
       "0  Golden Valley Natural Buffalo Jerky The descri...  \n",
       "1  Westing Game This was a great book!!!! It is w...  \n",
       "2  Westing Game I am a first year teacher, teachi...  \n",
       "3  Westing Game I got the book at my bookfair at ...  \n",
       "4  I SPY A is For Jigsaw Puzzle 63pc Hi! I'm Mart...  "
      ]
     },
     "execution_count": 56,
     "metadata": {},
     "output_type": "execute_result"
    }
   ],
   "source": [
    "df1 = pd.read_csv('data/amazon-reviews/cat1.csv', index_col=False); df1.head()"
   ]
  },
  {
   "cell_type": "code",
   "execution_count": 57,
   "metadata": {},
   "outputs": [],
   "source": [
    "X = list(df1['text_feature'])\n",
    "Y = list(df1['Cat1'])\n",
    "X_train, X_test, Y_train, Y_test = model_selection.train_test_split(X,Y, train_size=0.8, random_state=1)"
   ]
  },
  {
   "cell_type": "code",
   "execution_count": 58,
   "metadata": {},
   "outputs": [],
   "source": [
    "assert len(X_train) == len(Y_train)"
   ]
  },
  {
   "cell_type": "code",
   "execution_count": 59,
   "metadata": {},
   "outputs": [
    {
     "data": {
      "text/plain": [
       "Pipeline(steps=[('tok',\n",
       "                 TfidfVectorizer(max_df=0.8, min_df=3, ngram_range=[1, 2])),\n",
       "                ('clf', LinearSVC(class_weight='balanced'))])"
      ]
     },
     "execution_count": 59,
     "metadata": {},
     "output_type": "execute_result"
    }
   ],
   "source": [
    "clf1.fit(X_train, Y_train)"
   ]
  },
  {
   "cell_type": "code",
   "execution_count": 60,
   "metadata": {},
   "outputs": [
    {
     "name": "stdout",
     "output_type": "stream",
     "text": [
      "                      precision    recall  f1-score   support\n",
      "\n",
      "       baby products       0.96      0.95      0.96      1161\n",
      "              beauty       0.92      0.94      0.93      1129\n",
      "grocery gourmet food       0.93      0.95      0.94       724\n",
      "health personal care       0.93      0.92      0.93      1946\n",
      "        pet supplies       0.97      0.96      0.96       957\n",
      "          toys games       0.97      0.97      0.97      2083\n",
      "\n",
      "            accuracy                           0.95      8000\n",
      "           macro avg       0.95      0.95      0.95      8000\n",
      "        weighted avg       0.95      0.95      0.95      8000\n",
      "\n",
      "[[1106    8    0    9    5   33]\n",
      " [   3 1058    7   55    2    4]\n",
      " [   2    3  690   25    0    4]\n",
      " [  13   72   35 1797   14   15]\n",
      " [   5    5    4   19  916    8]\n",
      " [  19    3    2   24   12 2023]]\n"
     ]
    }
   ],
   "source": [
    "Y_pred = clf1.predict(X_test)\n",
    "print(metrics.classification_report(Y_test, Y_pred))\n",
    "print(metrics.confusion_matrix(Y_test, Y_pred))"
   ]
  },
  {
   "cell_type": "code",
   "execution_count": 63,
   "metadata": {},
   "outputs": [
    {
     "data": {
      "text/plain": [
       "'baby products'"
      ]
     },
     "execution_count": 63,
     "metadata": {},
     "output_type": "execute_result"
    }
   ],
   "source": [
    "clf1.decision_function(X_test)[0]\n",
    "Y_pred[0]"
   ]
  },
  {
   "cell_type": "markdown",
   "metadata": {},
   "source": [
    "- [x] Look at examples where model is incorrect - might tell us about the data\n",
    "Conclusion: baby products vs toys games, health personal care vs beauty, grocery gourmet food vs health personal care... there are a lot of instances where these classes share many of their features. Not surprising that it mixes them up from time to time. \n",
    "- [ ] Create loop that train models for each sub category"
   ]
  },
  {
   "cell_type": "code",
   "execution_count": 23,
   "metadata": {},
   "outputs": [],
   "source": [
    "incorrect_ids = []\n",
    "for i, (y_pred, y_test) in enumerate(zip(Y_pred, Y_test)):\n",
    "    if y_pred != y_test:\n",
    "        incorrect_ids.append(i)"
   ]
  },
  {
   "cell_type": "code",
   "execution_count": 29,
   "metadata": {},
   "outputs": [
    {
     "data": {
      "text/plain": [
       "418"
      ]
     },
     "execution_count": 29,
     "metadata": {},
     "output_type": "execute_result"
    }
   ],
   "source": [
    "len(incorrect_ids)"
   ]
  },
  {
   "cell_type": "code",
   "execution_count": 26,
   "metadata": {},
   "outputs": [],
   "source": [
    "incorrect_preds = []\n",
    "for i in incorrect_ids:\n",
    "    incorrect_preds.append({\n",
    "        \"text\": X_test[i],\n",
    "        \"true\": Y_test[i],\n",
    "        \"pred\": Y_pred[i]\n",
    "    })\n",
    "incorrect_df = pd.DataFrame(incorrect_preds)"
   ]
  },
  {
   "cell_type": "code",
   "execution_count": 27,
   "metadata": {},
   "outputs": [
    {
     "data": {
      "text/html": [
       "<div>\n",
       "<style scoped>\n",
       "    .dataframe tbody tr th:only-of-type {\n",
       "        vertical-align: middle;\n",
       "    }\n",
       "\n",
       "    .dataframe tbody tr th {\n",
       "        vertical-align: top;\n",
       "    }\n",
       "\n",
       "    .dataframe thead th {\n",
       "        text-align: right;\n",
       "    }\n",
       "</style>\n",
       "<table border=\"1\" class=\"dataframe\">\n",
       "  <thead>\n",
       "    <tr style=\"text-align: right;\">\n",
       "      <th></th>\n",
       "      <th>text</th>\n",
       "      <th>true</th>\n",
       "      <th>pred</th>\n",
       "    </tr>\n",
       "  </thead>\n",
       "  <tbody>\n",
       "    <tr>\n",
       "      <th>0</th>\n",
       "      <td>Natural Oatmeal Shampoo - Gallon I have used t...</td>\n",
       "      <td>pet supplies</td>\n",
       "      <td>beauty</td>\n",
       "    </tr>\n",
       "    <tr>\n",
       "      <th>1</th>\n",
       "      <td>Blue Mountain Wallcoverings GAPP1760 Pooh Scen...</td>\n",
       "      <td>baby products</td>\n",
       "      <td>toys games</td>\n",
       "    </tr>\n",
       "    <tr>\n",
       "      <th>2</th>\n",
       "      <td>Tweezerman Safety Slide Callus Shaver with Ras...</td>\n",
       "      <td>beauty</td>\n",
       "      <td>health personal care</td>\n",
       "    </tr>\n",
       "    <tr>\n",
       "      <th>3</th>\n",
       "      <td>Personalized Stainless Steel Beaded Spoon I ju...</td>\n",
       "      <td>baby products</td>\n",
       "      <td>toys games</td>\n",
       "    </tr>\n",
       "    <tr>\n",
       "      <th>4</th>\n",
       "      <td>Ricochet Sugar Free Mints with Xylitol, Fruit ...</td>\n",
       "      <td>health personal care</td>\n",
       "      <td>grocery gourmet food</td>\n",
       "    </tr>\n",
       "  </tbody>\n",
       "</table>\n",
       "</div>"
      ],
      "text/plain": [
       "                                                text                  true  \\\n",
       "0  Natural Oatmeal Shampoo - Gallon I have used t...          pet supplies   \n",
       "1  Blue Mountain Wallcoverings GAPP1760 Pooh Scen...         baby products   \n",
       "2  Tweezerman Safety Slide Callus Shaver with Ras...                beauty   \n",
       "3  Personalized Stainless Steel Beaded Spoon I ju...         baby products   \n",
       "4  Ricochet Sugar Free Mints with Xylitol, Fruit ...  health personal care   \n",
       "\n",
       "                   pred  \n",
       "0                beauty  \n",
       "1            toys games  \n",
       "2  health personal care  \n",
       "3            toys games  \n",
       "4  grocery gourmet food  "
      ]
     },
     "execution_count": 27,
     "metadata": {},
     "output_type": "execute_result"
    }
   ],
   "source": [
    "incorrect_df.head()"
   ]
  },
  {
   "cell_type": "code",
   "execution_count": 28,
   "metadata": {},
   "outputs": [],
   "source": [
    "incorrect_df.to_csv('cat1-errors.csv')"
   ]
  },
  {
   "cell_type": "markdown",
   "metadata": {},
   "source": [
    "# Sub category classifiers"
   ]
  },
  {
   "cell_type": "code",
   "execution_count": 30,
   "metadata": {},
   "outputs": [
    {
     "name": "stdout",
     "output_type": "stream",
     "text": [
      "baby-products.csv        grocery-gourmet-food.csv toys-games.csv\r\n",
      "beauty.csv               health-personal-care.csv train_40k.csv\r\n",
      "cat1.csv                 pet-supplies.csv         val_10k.csv\r\n"
     ]
    }
   ],
   "source": [
    "!ls data/amazon-reviews/"
   ]
  },
  {
   "cell_type": "code",
   "execution_count": 41,
   "metadata": {},
   "outputs": [
    {
     "data": {
      "text/plain": [
       "array([nan, 'gear', 'gifts', 'feeding', 'diapering', 'safety', 'nursery',\n",
       "       'bathing skin care', 'car seats accessories', 'strollers',\n",
       "       'pregnancy maternity', 'potty training', 'health baby care'],\n",
       "      dtype=object)"
      ]
     },
     "execution_count": 41,
     "metadata": {},
     "output_type": "execute_result"
    }
   ],
   "source": [
    "pd.read_csv('data/amazon-reviews/baby-products.csv')[\"Cat2-relative\"].unique()"
   ]
  },
  {
   "cell_type": "code",
   "execution_count": 35,
   "metadata": {},
   "outputs": [],
   "source": [
    "file_list = [\n",
    "    (\"baby product\", \"data/amazon-reviews/baby-products.csv\"),\n",
    "    (\"beauty\", \"data/amazon-reviews/beauty.csv\"),\n",
    "    (\"grocery gourmetfood\", \"data/amazon-reviews/grocery-gourmet-food.csv\"),\n",
    "    (\"healthpersonal care\", \"data/amazon-reviews/health-personal-care.csv\"),\n",
    "    (\"pet supplies\", \"data/amazon-reviews/pet-supplies.csv\"),\n",
    "    (\"toys games\", \"data/amazon-reviews/toys-games.csv\")\n",
    "]"
   ]
  },
  {
   "cell_type": "code",
   "execution_count": 64,
   "metadata": {
    "scrolled": false
   },
   "outputs": [
    {
     "name": "stdout",
     "output_type": "stream",
     "text": [
      "baby product data/amazon-reviews/baby-products.csv\n",
      "                       precision    recall  f1-score   support\n",
      "\n",
      "    bathing skin care       0.84      0.75      0.80        65\n",
      "car seats accessories       0.87      0.93      0.90        73\n",
      "            diapering       0.94      0.97      0.96       221\n",
      "              feeding       0.95      0.91      0.93       191\n",
      "                 gear       0.87      0.91      0.89       138\n",
      "                gifts       1.00      0.78      0.88        27\n",
      "     health baby care       1.00      0.58      0.74        12\n",
      "                  n/a       0.99      0.99      0.99      6839\n",
      "              nursery       0.95      0.84      0.89       178\n",
      "       potty training       0.87      0.90      0.88        29\n",
      "  pregnancy maternity       0.96      1.00      0.98        23\n",
      "               safety       0.97      0.84      0.90       153\n",
      "            strollers       0.92      0.86      0.89        51\n",
      "\n",
      "             accuracy                           0.98      8000\n",
      "            macro avg       0.93      0.87      0.89      8000\n",
      "         weighted avg       0.98      0.98      0.98      8000\n",
      "\n",
      "[[  49    0    3    0    0    0    0   10    1    2    0    0    0]\n",
      " [   0   68    0    1    1    0    0    2    0    0    0    0    1]\n",
      " [   0    0  214    1    1    0    0    3    0    1    0    0    1]\n",
      " [   0    1    1  174    1    0    0   14    0    0    0    0    0]\n",
      " [   0    1    1    0  125    0    0   10    0    0    0    1    0]\n",
      " [   0    0    0    0    0   21    0    6    0    0    0    0    0]\n",
      " [   1    0    0    0    1    0    7    3    0    0    0    0    0]\n",
      " [   7    6    5    6   13    0    0 6792    3    1    1    3    2]\n",
      " [   0    0    1    2    2    0    0   23  150    0    0    0    0]\n",
      " [   0    0    1    0    0    0    0    2    0   26    0    0    0]\n",
      " [   0    0    0    0    0    0    0    0    0    0   23    0    0]\n",
      " [   1    1    0    0    0    0    0   18    4    0    0  129    0]\n",
      " [   0    1    1    0    0    0    0    5    0    0    0    0   44]]\n",
      "---------------------------------------------\n",
      "beauty data/amazon-reviews/beauty.csv\n",
      "                   precision    recall  f1-score   support\n",
      "\n",
      "        bath body       0.83      0.69      0.75       112\n",
      "        fragrance       0.93      0.94      0.93       229\n",
      "        hair care       0.92      0.94      0.93       328\n",
      "           makeup       0.95      0.93      0.94       134\n",
      "              n/a       0.98      0.99      0.99      6871\n",
      "        skin care       0.82      0.79      0.81       280\n",
      "tools accessories       1.00      0.39      0.56        46\n",
      "\n",
      "         accuracy                           0.97      8000\n",
      "        macro avg       0.92      0.81      0.84      8000\n",
      "     weighted avg       0.97      0.97      0.97      8000\n",
      "\n",
      "[[  77    5    6    0   15    9    0]\n",
      " [   0  215    0    0   11    3    0]\n",
      " [   0    0  308    0   20    0    0]\n",
      " [   0    0    0  124    5    5    0]\n",
      " [   7   10   19    3 6805   27    0]\n",
      " [   9    1    2    3   44  221    0]\n",
      " [   0    0    0    0   25    3   18]]\n",
      "---------------------------------------------\n",
      "grocery gourmetfood data/amazon-reviews/grocery-gourmet-food.csv\n"
     ]
    },
    {
     "name": "stderr",
     "output_type": "stream",
     "text": [
      "/Users/viktor/miniconda3/envs/hier-clf/lib/python3.8/site-packages/sklearn/metrics/_classification.py:1221: UndefinedMetricWarning: Precision and F-score are ill-defined and being set to 0.0 in labels with no predicted samples. Use `zero_division` parameter to control this behavior.\n",
      "  _warn_prf(average, modifier, msg_start, len(result))\n"
     ]
    },
    {
     "name": "stdout",
     "output_type": "stream",
     "text": [
      "                                  precision    recall  f1-score   support\n",
      "\n",
      "                       baby food       1.00      0.69      0.82        13\n",
      "                       beverages       0.91      0.91      0.91       168\n",
      "                   breads bakery       0.63      0.70      0.67        27\n",
      "                 breakfast foods       0.85      0.88      0.86        58\n",
      "                 candy chocolate       0.87      0.82      0.84        71\n",
      "         cooking baking supplies       0.40      0.18      0.25        11\n",
      "                      dairy eggs       0.88      0.78      0.82         9\n",
      "fresh flowers live indoor plants       1.00      0.78      0.88         9\n",
      "                   gourmet gifts       1.00      0.50      0.67        16\n",
      "                           herbs       0.57      0.31      0.40        13\n",
      "                    meat poultry       0.80      0.67      0.73         6\n",
      "                    meat seafood       1.00      0.12      0.22         8\n",
      "                             n/a       0.99      0.99      0.99      7276\n",
      "                  pantry staples       0.80      0.80      0.80       203\n",
      "                         produce       0.67      0.29      0.40         7\n",
      "                     sauces dips       0.00      0.00      0.00         9\n",
      "                      snack food       0.78      0.79      0.79        96\n",
      "\n",
      "                        accuracy                           0.97      8000\n",
      "                       macro avg       0.77      0.60      0.65      8000\n",
      "                    weighted avg       0.97      0.97      0.97      8000\n",
      "\n",
      "[[   9    0    0    0    0    0    0    0    0    0    0    0    3    0\n",
      "     0    0    1]\n",
      " [   0  153    0    0    0    0    0    0    0    0    0    0   14    1\n",
      "     0    0    0]\n",
      " [   0    1   19    0    0    0    0    0    0    0    0    0    5    1\n",
      "     0    0    1]\n",
      " [   0    0    0   51    1    0    0    0    0    0    0    0    2    1\n",
      "     0    0    3]\n",
      " [   0    1    0    0   58    0    0    0    0    0    0    0   10    0\n",
      "     0    0    2]\n",
      " [   0    0    1    0    0    2    0    0    0    0    0    0    5    2\n",
      "     0    0    1]\n",
      " [   0    0    0    0    0    0    7    0    0    0    0    0    2    0\n",
      "     0    0    0]\n",
      " [   0    0    0    0    0    0    0    7    0    0    0    0    2    0\n",
      "     0    0    0]\n",
      " [   0    0    0    0    1    0    0    0    8    0    0    0    7    0\n",
      "     0    0    0]\n",
      " [   0    0    0    0    0    0    0    0    0    4    0    0    2    7\n",
      "     0    0    0]\n",
      " [   0    0    0    0    0    0    0    0    0    0    4    0    2    0\n",
      "     0    0    0]\n",
      " [   0    0    0    0    0    0    0    0    0    0    0    1    3    2\n",
      "     0    0    2]\n",
      " [   0    9    2    8    7    0    0    0    0    1    0    0 7232   16\n",
      "     0    0    1]\n",
      " [   0    2    0    0    0    3    1    0    0    2    0    0   24  163\n",
      "     1    0    7]\n",
      " [   0    0    0    0    0    0    0    0    0    0    0    0    2    0\n",
      "     2    0    3]\n",
      " [   0    0    0    0    0    0    0    0    0    0    0    0    1    8\n",
      "     0    0    0]\n",
      " [   0    2    8    1    0    0    0    0    0    0    1    0    4    4\n",
      "     0    0   76]]\n",
      "---------------------------------------------\n",
      "healthpersonal care data/amazon-reviews/health-personal-care.csv\n",
      "                            precision    recall  f1-score   support\n",
      "\n",
      "           baby child care       0.95      0.75      0.84        28\n",
      "               health care       0.85      0.73      0.79       406\n",
      "        household supplies       0.94      0.80      0.86       188\n",
      "medical supplies equipment       0.91      0.85      0.88       264\n",
      "                       n/a       0.96      0.99      0.97      6054\n",
      "        nutrition wellness       0.85      0.86      0.85       415\n",
      "             personal care       0.94      0.90      0.92       592\n",
      "           sexual wellness       0.92      0.85      0.88        53\n",
      "\n",
      "                  accuracy                           0.95      8000\n",
      "                 macro avg       0.92      0.84      0.87      8000\n",
      "              weighted avg       0.95      0.95      0.95      8000\n",
      "\n",
      "[[  21    0    0    0    2    2    3    0]\n",
      " [   1  298    0   10   64   27    3    3]\n",
      " [   0    2  150    0   34    0    2    0]\n",
      " [   0    8    0  224   31    0    1    0]\n",
      " [   0   21    8    8 5964   30   22    1]\n",
      " [   0   11    0    3   44  355    2    0]\n",
      " [   0   10    1    1   46    3  531    0]\n",
      " [   0    2    0    0    6    0    0   45]]\n",
      "---------------------------------------------\n",
      "pet supplies data/amazon-reviews/pet-supplies.csv\n",
      "                      precision    recall  f1-score   support\n",
      "\n",
      "               birds       0.94      0.71      0.81        21\n",
      "bunny rabbit central       0.83      0.62      0.71        16\n",
      "                cats       0.88      0.78      0.83       348\n",
      "                dogs       0.90      0.89      0.89       517\n",
      "   fish aquatic pets       0.91      0.64      0.75        50\n",
      "                 n/a       0.99      1.00      0.99      7043\n",
      "       small animals       0.67      0.40      0.50         5\n",
      "\n",
      "            accuracy                           0.98      8000\n",
      "           macro avg       0.87      0.72      0.78      8000\n",
      "        weighted avg       0.98      0.98      0.98      8000\n",
      "\n",
      "[[  15    0    1    0    0    5    0]\n",
      " [   1   10    0    2    0    2    1]\n",
      " [   0    0  273   42    0   33    0]\n",
      " [   0    0   22  462    0   33    0]\n",
      " [   0    0    0    0   32   18    0]\n",
      " [   0    1   16   10    3 7013    0]\n",
      " [   0    1    0    0    0    2    2]]\n",
      "---------------------------------------------\n",
      "toys games data/amazon-reviews/toys-games.csv\n",
      "                         precision    recall  f1-score   support\n",
      "\n",
      "     action toy figures       0.81      0.74      0.78       227\n",
      "            arts crafts       0.84      0.88      0.86        67\n",
      "      baby toddler toys       0.69      0.79      0.73       212\n",
      "          building toys       0.84      0.84      0.84        97\n",
      "      dolls accessories       0.90      0.86      0.88       195\n",
      "  dress up pretend play       0.70      0.71      0.71        93\n",
      "   electronics for kids       0.82      0.75      0.78       208\n",
      "                  games       0.87      0.92      0.89       284\n",
      "          grown up toys       0.86      0.25      0.39        24\n",
      "                hobbies       0.64      0.48      0.55        33\n",
      "     learning education       0.85      0.52      0.64        99\n",
      "                    n/a       0.98      0.99      0.98      5917\n",
      "       novelty gag toys       0.74      0.54      0.63        59\n",
      "                puzzles       0.89      0.91      0.90        65\n",
      "    sports outdoor play       0.88      0.80      0.84       125\n",
      "  stuffed animals plush       0.91      0.83      0.87       139\n",
      "              tricycles       0.89      0.82      0.85        60\n",
      "vehicles remote control       0.74      0.78      0.76        96\n",
      "\n",
      "               accuracy                           0.94      8000\n",
      "              macro avg       0.83      0.74      0.77      8000\n",
      "           weighted avg       0.94      0.94      0.94      8000\n",
      "\n",
      "[[ 169    1    8    2    6    4    4    3    0    4    0   11    0    0\n",
      "     1    2    0   12]\n",
      " [   0   59    1    1    1    0    1    0    0    0    1    3    0    0\n",
      "     0    0    0    0]\n",
      " [   3    1  167    3    3    4    7    1    0    0    1   13    1    2\n",
      "     1    1    2    2]\n",
      " [   2    0    4   81    0    0    0    1    0    0    1    3    0    1\n",
      "     1    0    0    3]\n",
      " [   3    0    4    1  168    6    2    1    0    0    1    9    0    0\n",
      "     0    0    0    0]\n",
      " [   3    2    4    0    2   66    2    4    0    0    0    5    1    0\n",
      "     3    1    0    0]\n",
      " [   5    0    8    0    1    1  155   14    0    2    2   13    0    1\n",
      "     2    0    1    3]\n",
      " [   1    1    2    0    0    3    2  260    0    0    1   10    2    1\n",
      "     0    0    0    1]\n",
      " [   2    0    0    0    0    0    0    7    6    1    0    6    1    0\n",
      "     0    0    0    1]\n",
      " [   4    0    0    1    0    0    1    2    0   16    0    7    0    0\n",
      "     0    0    0    2]\n",
      " [   2    1   11    1    0    3    4    0    0    0   51   22    2    2\n",
      "     0    0    0    0]\n",
      " [   3    0   18    3    1    2    5    1    0    0    1 5872    2    0\n",
      "     2    4    1    2]\n",
      " [   2    2    4    0    1    2    1    1    0    0    1   10   32    0\n",
      "     2    1    0    0]\n",
      " [   0    0    0    0    0    0    2    3    0    1    0    0    0   59\n",
      "     0    0    0    0]\n",
      " [   2    2    2    0    0    0    0    1    1    0    0   15    1    0\n",
      "   100    1    0    0]\n",
      " [   2    1    6    0    3    0    1    0    0    0    0   10    0    0\n",
      "     0  115    1    0]\n",
      " [   0    0    3    0    0    1    1    0    0    0    0    6    0    0\n",
      "     0    0   49    0]\n",
      " [   5    0    1    3    0    2    0    0    0    1    0    4    1    0\n",
      "     2    1    1   75]]\n",
      "---------------------------------------------\n"
     ]
    }
   ],
   "source": [
    "subcat_dict = {}\n",
    "for (c, f) in file_list:\n",
    "    print(c, f)\n",
    "    clf = Pipeline(\n",
    "        steps=[\n",
    "            ('tok', feature_extraction.text.TfidfVectorizer(min_df = 3, max_df=0.8, ngram_range=[1,2])),\n",
    "            ('clf', svm.LinearSVC(penalty='l2', multi_class='ovr', class_weight='balanced'))\n",
    "        ]\n",
    "    )\n",
    "    sub_df = pd.read_csv(f).fillna('n/a')\n",
    "    X = sub_df['text_feature']\n",
    "    Y = sub_df['Cat2-relative']\n",
    "    \n",
    "    X_train, X_test, Y_train, Y_test = model_selection.train_test_split(X,Y, train_size=0.8, random_state=1)\n",
    "    \n",
    "    \n",
    "    clf.fit(X_train, Y_train)\n",
    "    Y_pred = clf.predict(X_test)\n",
    "    Y_scores = clf.decision_function(X_test)\n",
    "    subcat_dict[c] = {\n",
    "        \"clf\": clf,\n",
    "        \"X_train\": X_train,\n",
    "        \"X_test\": X_test,\n",
    "        \"Y_train\": Y_train,\n",
    "        \"Y_test\": Y_test,\n",
    "        \"Y_scores\": Y_scores\n",
    "    }\n",
    "    print(metrics.classification_report(Y_test, Y_pred))\n",
    "    print(metrics.confusion_matrix(Y_test, Y_pred))\n",
    "    print(\"---------------------------------------------\")"
   ]
  },
  {
   "cell_type": "code",
   "execution_count": null,
   "metadata": {},
   "outputs": [],
   "source": []
  }
 ],
 "metadata": {
  "kernelspec": {
   "display_name": "Python 3",
   "language": "python",
   "name": "python3"
  },
  "language_info": {
   "codemirror_mode": {
    "name": "ipython",
    "version": 3
   },
   "file_extension": ".py",
   "mimetype": "text/x-python",
   "name": "python",
   "nbconvert_exporter": "python",
   "pygments_lexer": "ipython3",
   "version": "3.8.5"
  }
 },
 "nbformat": 4,
 "nbformat_minor": 4
}
